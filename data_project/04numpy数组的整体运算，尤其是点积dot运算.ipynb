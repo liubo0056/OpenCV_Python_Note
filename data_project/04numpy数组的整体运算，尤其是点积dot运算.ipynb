{
 "cells": [
  {
   "cell_type": "markdown",
   "id": "b97c5f49",
   "metadata": {},
   "source": [
    "# 数组思维之整体运算"
   ]
  },
  {
   "cell_type": "markdown",
   "id": "89c69898",
   "metadata": {},
   "source": [
    "### 数组与一个数字的运算"
   ]
  },
  {
   "cell_type": "code",
   "execution_count": 1,
   "id": "4cf1b2ef",
   "metadata": {},
   "outputs": [],
   "source": [
    "import numpy as np"
   ]
  },
  {
   "cell_type": "code",
   "execution_count": 2,
   "id": "fe252487",
   "metadata": {},
   "outputs": [
    {
     "data": {
      "text/plain": [
       "array([3, 2, 5, 9, 9])"
      ]
     },
     "execution_count": 2,
     "metadata": {},
     "output_type": "execute_result"
    }
   ],
   "source": [
    "a = np.random.randint(1,10,5)\n",
    "a"
   ]
  },
  {
   "cell_type": "code",
   "execution_count": 3,
   "id": "fbd7e064",
   "metadata": {},
   "outputs": [
    {
     "data": {
      "text/plain": [
       "array([ 8,  7, 10, 14, 14])"
      ]
     },
     "execution_count": 3,
     "metadata": {},
     "output_type": "execute_result"
    }
   ],
   "source": [
    "b = a + 5\n",
    "b"
   ]
  },
  {
   "cell_type": "code",
   "execution_count": 5,
   "id": "fded09bc",
   "metadata": {},
   "outputs": [],
   "source": [
    "x = list(range(1,100000))"
   ]
  },
  {
   "cell_type": "code",
   "execution_count": 6,
   "id": "2ddfb1d2",
   "metadata": {},
   "outputs": [
    {
     "name": "stdout",
     "output_type": "stream",
     "text": [
      "CPU times: user 11.3 ms, sys: 4.73 ms, total: 16.1 ms\n",
      "Wall time: 45.4 ms\n"
     ]
    }
   ],
   "source": [
    "%%time\n",
    "y = [i//3 for i in x]"
   ]
  },
  {
   "cell_type": "code",
   "execution_count": 7,
   "id": "64281519",
   "metadata": {},
   "outputs": [],
   "source": [
    "x2 = np.array(x)"
   ]
  },
  {
   "cell_type": "code",
   "execution_count": 8,
   "id": "1ce78df4",
   "metadata": {},
   "outputs": [
    {
     "name": "stdout",
     "output_type": "stream",
     "text": [
      "CPU times: user 3.33 ms, sys: 2.23 ms, total: 5.56 ms\n",
      "Wall time: 7.3 ms\n"
     ]
    }
   ],
   "source": [
    "%%time\n",
    "y2 = x2//3"
   ]
  },
  {
   "cell_type": "code",
   "execution_count": 9,
   "id": "04ecfda4",
   "metadata": {},
   "outputs": [
    {
     "data": {
      "text/plain": [
       "array([    0,     0,     1, ..., 33332, 33332, 33333])"
      ]
     },
     "execution_count": 9,
     "metadata": {},
     "output_type": "execute_result"
    }
   ],
   "source": [
    "y2"
   ]
  },
  {
   "cell_type": "markdown",
   "id": "27dd14e0",
   "metadata": {},
   "source": [
    "### 通用函数对一个数组进行整体变换"
   ]
  },
  {
   "cell_type": "code",
   "execution_count": 10,
   "id": "cda70be1",
   "metadata": {},
   "outputs": [],
   "source": [
    "import numpy as np"
   ]
  },
  {
   "cell_type": "code",
   "execution_count": 11,
   "id": "af355206",
   "metadata": {},
   "outputs": [
    {
     "data": {
      "text/plain": [
       "array([[ 97,  -1,  84, -61, -31],\n",
       "       [-11,  48, -99,  87, -54],\n",
       "       [ 18,  93,  55,   1, -69]])"
      ]
     },
     "execution_count": 11,
     "metadata": {},
     "output_type": "execute_result"
    }
   ],
   "source": [
    "x = np.random.randint(-100,100,(3,5))\n",
    "x"
   ]
  },
  {
   "cell_type": "code",
   "execution_count": 12,
   "id": "302d8381",
   "metadata": {},
   "outputs": [
    {
     "data": {
      "text/plain": [
       "array([[97,  1, 84, 61, 31],\n",
       "       [11, 48, 99, 87, 54],\n",
       "       [18, 93, 55,  1, 69]])"
      ]
     },
     "execution_count": 12,
     "metadata": {},
     "output_type": "execute_result"
    }
   ],
   "source": [
    "y = np.abs(x)\n",
    "y"
   ]
  },
  {
   "cell_type": "code",
   "execution_count": 14,
   "id": "85636a65",
   "metadata": {},
   "outputs": [
    {
     "data": {
      "text/plain": [
       "array([[0.01571771, 0.93056376, 0.34358798, 0.02378942, 0.39859609],\n",
       "       [0.59659828, 0.68929976, 0.89929654, 0.67477093, 0.51836293],\n",
       "       [0.87129756, 0.72272064, 0.28038878, 0.19852014, 0.22224522]])"
      ]
     },
     "execution_count": 14,
     "metadata": {},
     "output_type": "execute_result"
    }
   ],
   "source": [
    "x = np.random.rand(3,5)\n",
    "x"
   ]
  },
  {
   "cell_type": "code",
   "execution_count": 16,
   "id": "5705f9b1",
   "metadata": {},
   "outputs": [
    {
     "data": {
      "text/plain": [
       "array([[0.02, 0.93, 0.34, 0.02, 0.4 ],\n",
       "       [0.6 , 0.69, 0.9 , 0.67, 0.52],\n",
       "       [0.87, 0.72, 0.28, 0.2 , 0.22]])"
      ]
     },
     "execution_count": 16,
     "metadata": {},
     "output_type": "execute_result"
    }
   ],
   "source": [
    "y= np.round(x,2) # 四舍五入\n",
    "y"
   ]
  },
  {
   "cell_type": "markdown",
   "id": "b46175e8",
   "metadata": {},
   "source": [
    "### 同形数组，对位计算"
   ]
  },
  {
   "cell_type": "code",
   "execution_count": 26,
   "id": "6436c9b6",
   "metadata": {},
   "outputs": [],
   "source": [
    "a = [[1,2,3],\n",
    "    [2,3,4]]\n",
    "a = np.array(a)"
   ]
  },
  {
   "cell_type": "code",
   "execution_count": 27,
   "id": "b681c3c3",
   "metadata": {},
   "outputs": [],
   "source": [
    "b = [[4,3,2],\n",
    "    [5,4,3]]\n",
    "b = np.array(b)"
   ]
  },
  {
   "cell_type": "code",
   "execution_count": 28,
   "id": "116023aa",
   "metadata": {},
   "outputs": [
    {
     "data": {
      "text/plain": [
       "array([[5, 5, 5],\n",
       "       [7, 7, 7]])"
      ]
     },
     "execution_count": 28,
     "metadata": {},
     "output_type": "execute_result"
    }
   ],
   "source": [
    "a + b"
   ]
  },
  {
   "cell_type": "code",
   "execution_count": 29,
   "id": "38429968",
   "metadata": {},
   "outputs": [
    {
     "data": {
      "text/plain": [
       "array([[0.25, 0.67, 1.5 ],\n",
       "       [0.4 , 0.75, 1.33]])"
      ]
     },
     "execution_count": 29,
     "metadata": {},
     "output_type": "execute_result"
    }
   ],
   "source": [
    "np.round(a/b,2)"
   ]
  },
  {
   "cell_type": "markdown",
   "id": "41e74bed",
   "metadata": {},
   "source": [
    "### 点积运算，左边列数必须等于右边行数,行看左边，列看右边"
   ]
  },
  {
   "cell_type": "code",
   "execution_count": 49,
   "id": "4761dac3",
   "metadata": {},
   "outputs": [],
   "source": [
    "a = np.random.randint(1,5,(2,3))\n",
    "b = np.random.randint(1,5,(3,2))"
   ]
  },
  {
   "cell_type": "code",
   "execution_count": 50,
   "id": "b131a6c1",
   "metadata": {},
   "outputs": [
    {
     "data": {
      "text/plain": [
       "array([[3, 1, 4],\n",
       "       [2, 2, 2]])"
      ]
     },
     "execution_count": 50,
     "metadata": {},
     "output_type": "execute_result"
    }
   ],
   "source": [
    "a"
   ]
  },
  {
   "cell_type": "code",
   "execution_count": 51,
   "id": "d557fee5",
   "metadata": {},
   "outputs": [
    {
     "data": {
      "text/plain": [
       "array([[1, 4],\n",
       "       [2, 3],\n",
       "       [1, 1]])"
      ]
     },
     "execution_count": 51,
     "metadata": {},
     "output_type": "execute_result"
    }
   ],
   "source": [
    "b"
   ]
  },
  {
   "cell_type": "code",
   "execution_count": 53,
   "id": "acb4a7d2",
   "metadata": {},
   "outputs": [
    {
     "data": {
      "text/plain": [
       "array([[ 9, 19],\n",
       "       [ 8, 16]])"
      ]
     },
     "execution_count": 53,
     "metadata": {},
     "output_type": "execute_result"
    }
   ],
   "source": [
    "a.dot(b)"
   ]
  },
  {
   "cell_type": "code",
   "execution_count": null,
   "id": "51075901",
   "metadata": {},
   "outputs": [],
   "source": []
  }
 ],
 "metadata": {
  "kernelspec": {
   "display_name": "Python 3 (ipykernel)",
   "language": "python",
   "name": "python3"
  },
  "language_info": {
   "codemirror_mode": {
    "name": "ipython",
    "version": 3
   },
   "file_extension": ".py",
   "mimetype": "text/x-python",
   "name": "python",
   "nbconvert_exporter": "python",
   "pygments_lexer": "ipython3",
   "version": "3.9.7"
  }
 },
 "nbformat": 4,
 "nbformat_minor": 5
}
