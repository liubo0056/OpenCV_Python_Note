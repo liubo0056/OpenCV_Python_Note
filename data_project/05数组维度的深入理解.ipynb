{
 "cells": [
  {
   "cell_type": "code",
   "execution_count": 1,
   "id": "268e0120",
   "metadata": {},
   "outputs": [],
   "source": [
    "import numpy as np"
   ]
  },
  {
   "cell_type": "code",
   "execution_count": 3,
   "id": "da2d23b7",
   "metadata": {},
   "outputs": [],
   "source": [
    "score = np.array([70,80,96])"
   ]
  },
  {
   "cell_type": "code",
   "execution_count": 4,
   "id": "c42fb294",
   "metadata": {},
   "outputs": [
    {
     "data": {
      "text/plain": [
       "246"
      ]
     },
     "execution_count": 4,
     "metadata": {},
     "output_type": "execute_result"
    }
   ],
   "source": [
    "np.sum(score) # 求和"
   ]
  },
  {
   "cell_type": "code",
   "execution_count": 8,
   "id": "070c1f03",
   "metadata": {},
   "outputs": [
    {
     "data": {
      "text/plain": [
       "82.0"
      ]
     },
     "execution_count": 8,
     "metadata": {},
     "output_type": "execute_result"
    }
   ],
   "source": [
    "np.average(score) # 求平均或加权，mean只能单纯平均"
   ]
  },
  {
   "cell_type": "code",
   "execution_count": 13,
   "id": "a269ed21",
   "metadata": {},
   "outputs": [
    {
     "data": {
      "text/plain": [
       "82.0"
      ]
     },
     "execution_count": 13,
     "metadata": {},
     "output_type": "execute_result"
    }
   ],
   "source": [
    "np.mean(score)"
   ]
  },
  {
   "cell_type": "code",
   "execution_count": 12,
   "id": "f3870dc3",
   "metadata": {},
   "outputs": [
    {
     "data": {
      "text/plain": [
       "86.0"
      ]
     },
     "execution_count": 12,
     "metadata": {},
     "output_type": "execute_result"
    }
   ],
   "source": [
    "np.average(score,weights = [20,30,50]) "
   ]
  },
  {
   "cell_type": "code",
   "execution_count": 9,
   "id": "b03f66f1",
   "metadata": {},
   "outputs": [
    {
     "data": {
      "text/plain": [
       "96"
      ]
     },
     "execution_count": 9,
     "metadata": {},
     "output_type": "execute_result"
    }
   ],
   "source": [
    "np.max(score) "
   ]
  },
  {
   "cell_type": "code",
   "execution_count": 10,
   "id": "8b6d911d",
   "metadata": {},
   "outputs": [
    {
     "data": {
      "text/plain": [
       "70"
      ]
     },
     "execution_count": 10,
     "metadata": {},
     "output_type": "execute_result"
    }
   ],
   "source": [
    "np.min(score) "
   ]
  },
  {
   "cell_type": "code",
   "execution_count": 14,
   "id": "6b9dad52",
   "metadata": {},
   "outputs": [
    {
     "data": {
      "text/plain": [
       "82.0"
      ]
     },
     "execution_count": 14,
     "metadata": {},
     "output_type": "execute_result"
    }
   ],
   "source": [
    "score.mean()"
   ]
  },
  {
   "cell_type": "markdown",
   "id": "94041f42",
   "metadata": {},
   "source": [
    "### 多维数组的统计运算-怎样描述和指定维度"
   ]
  },
  {
   "cell_type": "markdown",
   "id": "d82b87d2",
   "metadata": {},
   "source": [
    "### 把维度理解成属性或者特征，这是描述数组中每一个数据必须的，也是理解数组维度的关键"
   ]
  },
  {
   "cell_type": "code",
   "execution_count": 2,
   "id": "00e8549e",
   "metadata": {},
   "outputs": [
    {
     "data": {
      "text/plain": [
       "array([[65, 96, 90, 73, 98, 95],\n",
       "       [67, 82, 91, 73, 97, 83],\n",
       "       [84, 90, 66, 82, 98, 75],\n",
       "       [92, 92, 72, 75, 65, 92]])"
      ]
     },
     "execution_count": 2,
     "metadata": {},
     "output_type": "execute_result"
    }
   ],
   "source": [
    "import numpy as np\n",
    "sale_num = np.random.randint(60,100,(4,6))\n",
    "sale_num"
   ]
  },
  {
   "cell_type": "code",
   "execution_count": 3,
   "id": "b683a644",
   "metadata": {},
   "outputs": [
    {
     "data": {
      "text/plain": [
       "array([517, 493, 495, 488])"
      ]
     },
     "execution_count": 3,
     "metadata": {},
     "output_type": "execute_result"
    }
   ],
   "source": [
    "np.sum(sale_num,axis = 1)"
   ]
  },
  {
   "cell_type": "code",
   "execution_count": 8,
   "id": "402bc6f4",
   "metadata": {},
   "outputs": [
    {
     "data": {
      "text/plain": [
       "array([308, 360, 319, 303, 358, 345])"
      ]
     },
     "execution_count": 8,
     "metadata": {},
     "output_type": "execute_result"
    }
   ],
   "source": [
    "np.sum(sale_num,axis = 0) # 模块的函数"
   ]
  },
  {
   "cell_type": "code",
   "execution_count": 9,
   "id": "5ec81b9d",
   "metadata": {},
   "outputs": [],
   "source": [
    "# axis表示按某个维度进行计算，也可以理解为把某个维度消灭掉"
   ]
  },
  {
   "cell_type": "code",
   "execution_count": 10,
   "id": "872927ae",
   "metadata": {},
   "outputs": [
    {
     "data": {
      "text/plain": [
       "array([308, 360, 319, 303, 358, 345])"
      ]
     },
     "execution_count": 10,
     "metadata": {},
     "output_type": "execute_result"
    }
   ],
   "source": [
    "sale_num.sum(axis =0) # 对象的方法"
   ]
  },
  {
   "cell_type": "code",
   "execution_count": null,
   "id": "901cf4f4",
   "metadata": {},
   "outputs": [],
   "source": []
  }
 ],
 "metadata": {
  "kernelspec": {
   "display_name": "Python 3 (ipykernel)",
   "language": "python",
   "name": "python3"
  },
  "language_info": {
   "codemirror_mode": {
    "name": "ipython",
    "version": 3
   },
   "file_extension": ".py",
   "mimetype": "text/x-python",
   "name": "python",
   "nbconvert_exporter": "python",
   "pygments_lexer": "ipython3",
   "version": "3.9.7"
  }
 },
 "nbformat": 4,
 "nbformat_minor": 5
}
